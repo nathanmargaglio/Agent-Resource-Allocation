{
 "cells": [
  {
   "cell_type": "code",
   "execution_count": 1,
   "metadata": {},
   "outputs": [],
   "source": [
    "from PPOAgent import PPOAgent\n",
    "from SubEnvironment import SubEnvironment\n",
    "import time\n",
    "%load_ext autoreload\n",
    "%autoreload 2"
   ]
  },
  {
   "cell_type": "code",
   "execution_count": 2,
   "metadata": {},
   "outputs": [],
   "source": [
    "env = SubEnvironment(max_steps=512, period=128, lookback=64,\n",
    "                     frequency=(1,10), freq_var=(0,1.),\n",
    "                     amplitude=1., amp_var=(0., 0.5),\n",
    "                     noise=0.1, phase=(0,1))"
   ]
  },
  {
   "cell_type": "code",
   "execution_count": 69,
   "metadata": {},
   "outputs": [
    {
     "name": "stderr",
     "output_type": "stream",
     "text": [
      "2019-01-08 22:03:17,411 Run Created: ./runs/agent-34/\n",
      "2019-01-08 22:03:17,436 Agen logs created.\n",
      "2019-01-08 22:03:17,440 Running Pretraining Step.\n",
      "2019-01-08 22:03:17,443 Building Models.\n",
      "2019-01-08 22:03:17,720 Beginning Training Loop.\n",
      "2019-01-08 22:03:18,423 Episode 0 done! Reward: -46.74787176926317\n",
      "2019-01-08 22:03:20,915 Episode 1 done! Reward: -26.086009661134995\n",
      "2019-01-08 22:03:21,153 Training Complete!\n"
     ]
    }
   ],
   "source": [
    "agent = PPOAgent(env, verbose=1)\n",
    "agent.run(2)"
   ]
  },
  {
   "cell_type": "code",
   "execution_count": 74,
   "metadata": {},
   "outputs": [
    {
     "name": "stdout",
     "output_type": "stream",
     "text": [
      "\u001b[33mWARN: gym.spaces.Box autodetected dtype as <class 'numpy.float32'>. Please provide explicit dtype.\u001b[0m\n"
     ]
    },
    {
     "name": "stderr",
     "output_type": "stream",
     "text": [
      "2019-01-08 22:06:40,654 Run Created: ./runs/agent-37/\n",
      "2019-01-08 22:06:40,657 Agen logs created.\n",
      "2019-01-08 22:06:40,658 Running Pretraining Step.\n",
      "2019-01-08 22:06:40,660 Building Models.\n",
      "2019-01-08 22:06:40,931 Beginning Training Loop.\n",
      "2019-01-08 22:06:41,073 Episode 0 done! Reward: 15.0\n",
      "2019-01-08 22:06:41,098 Episode 1 done! Reward: 17.0\n",
      "2019-01-08 22:06:41,137 Episode 2 done! Reward: 27.0\n",
      "2019-01-08 22:06:41,168 Episode 3 done! Reward: 21.0\n",
      "2019-01-08 22:06:41,201 Episode 4 done! Reward: 24.0\n",
      "2019-01-08 22:06:41,326 Episode 5 done! Reward: 88.0\n",
      "2019-01-08 22:06:41,350 Episode 6 done! Reward: 16.0\n",
      "2019-01-08 22:06:41,382 Episode 7 done! Reward: 22.0\n",
      "2019-01-08 22:06:41,411 Episode 8 done! Reward: 18.0\n",
      "2019-01-08 22:06:41,450 Episode 9 done! Reward: 30.0\n",
      "2019-01-08 22:06:43,383 Episode 10 done! Reward: 23.0\n",
      "2019-01-08 22:06:43,426 Episode 11 done! Reward: 26.0\n",
      "2019-01-08 22:06:43,457 Episode 12 done! Reward: 18.0\n",
      "2019-01-08 22:06:43,521 Episode 13 done! Reward: 45.0\n",
      "2019-01-08 22:06:43,572 Episode 14 done! Reward: 38.0\n",
      "2019-01-08 22:06:43,614 Episode 15 done! Reward: 31.0\n",
      "2019-01-08 22:06:43,691 Episode 16 done! Reward: 58.0\n",
      "2019-01-08 22:06:43,721 Episode 17 done! Reward: 21.0\n",
      "2019-01-08 22:06:43,945 Episode 18 done! Reward: 9.0\n",
      "2019-01-08 22:06:43,978 Episode 19 done! Reward: 20.0\n",
      "2019-01-08 22:06:44,025 Episode 20 done! Reward: 32.0\n",
      "2019-01-08 22:06:44,047 Episode 21 done! Reward: 12.0\n",
      "2019-01-08 22:06:44,080 Episode 22 done! Reward: 22.0\n",
      "2019-01-08 22:06:44,118 Episode 23 done! Reward: 27.0\n",
      "2019-01-08 22:06:44,174 Episode 24 done! Reward: 39.0\n",
      "2019-01-08 22:06:44,231 Episode 25 done! Reward: 41.0\n",
      "2019-01-08 22:06:44,319 Episode 26 done! Reward: 63.0\n",
      "2019-01-08 22:06:44,647 Episode 27 done! Reward: 95.0\n",
      "2019-01-08 22:06:44,806 Episode 28 done! Reward: 121.0\n",
      "2019-01-08 22:06:44,912 Episode 29 done! Reward: 78.0\n",
      "2019-01-08 22:06:45,203 Episode 30 done! Reward: 63.0\n",
      "2019-01-08 22:06:45,330 Episode 31 done! Reward: 96.0\n",
      "2019-01-08 22:06:45,381 Episode 32 done! Reward: 37.0\n",
      "2019-01-08 22:06:45,436 Episode 33 done! Reward: 43.0\n",
      "2019-01-08 22:06:45,588 Episode 34 done! Reward: 114.0\n",
      "2019-01-08 22:06:45,919 Episode 35 done! Reward: 93.0\n",
      "2019-01-08 22:06:46,028 Episode 36 done! Reward: 82.0\n",
      "2019-01-08 22:06:46,227 Episode 37 done! Reward: 149.0\n",
      "2019-01-08 22:06:46,579 Episode 38 done! Reward: 104.0\n",
      "2019-01-08 22:06:46,677 Episode 39 done! Reward: 73.0\n",
      "2019-01-08 22:06:46,786 Episode 40 done! Reward: 80.0\n",
      "2019-01-08 22:06:47,155 Episode 41 done! Reward: 122.0\n",
      "2019-01-08 22:06:47,259 Episode 42 done! Reward: 77.0\n",
      "2019-01-08 22:06:47,358 Episode 43 done! Reward: 71.0\n",
      "2019-01-08 22:06:47,678 Episode 44 done! Reward: 86.0\n",
      "2019-01-08 22:06:47,823 Episode 45 done! Reward: 108.0\n",
      "2019-01-08 22:06:47,937 Episode 46 done! Reward: 82.0\n",
      "2019-01-08 22:06:48,247 Episode 47 done! Reward: 84.0\n",
      "2019-01-08 22:06:48,428 Episode 48 done! Reward: 135.0\n",
      "2019-01-08 22:06:48,530 Episode 49 done! Reward: 73.0\n",
      "2019-01-08 22:06:48,893 Episode 50 done! Reward: 127.0\n",
      "2019-01-08 22:06:49,048 Episode 51 done! Reward: 115.0\n",
      "2019-01-08 22:06:49,209 Episode 52 done! Reward: 121.0\n",
      "2019-01-08 22:06:49,554 Episode 53 done! Reward: 104.0\n",
      "2019-01-08 22:06:49,737 Episode 54 done! Reward: 144.0\n",
      "2019-01-08 22:06:49,883 Episode 55 done! Reward: 106.0\n",
      "2019-01-08 22:06:50,262 Episode 56 done! Reward: 126.0\n",
      "2019-01-08 22:06:50,414 Episode 57 done! Reward: 117.0\n",
      "2019-01-08 22:06:50,616 Episode 58 done! Reward: 154.0\n",
      "2019-01-08 22:06:50,926 Episode 59 done! Reward: 84.0\n",
      "2019-01-08 22:06:51,086 Episode 60 done! Reward: 118.0\n",
      "2019-01-08 22:06:51,245 Episode 61 done! Reward: 124.0\n",
      "2019-01-08 22:06:51,646 Episode 62 done! Reward: 141.0\n",
      "2019-01-08 22:06:51,792 Episode 63 done! Reward: 108.0\n",
      "2019-01-08 22:06:51,933 Episode 64 done! Reward: 104.0\n",
      "2019-01-08 22:06:52,320 Episode 65 done! Reward: 136.0\n",
      "2019-01-08 22:06:52,449 Episode 66 done! Reward: 96.0\n",
      "2019-01-08 22:06:52,589 Episode 67 done! Reward: 100.0\n",
      "2019-01-08 22:06:52,925 Episode 68 done! Reward: 110.0\n",
      "2019-01-08 22:06:53,052 Episode 69 done! Reward: 92.0\n",
      "2019-01-08 22:06:53,172 Episode 70 done! Reward: 90.0\n",
      "2019-01-08 22:06:53,495 Episode 71 done! Reward: 98.0\n",
      "2019-01-08 22:06:53,667 Episode 72 done! Reward: 126.0\n",
      "2019-01-08 22:06:53,788 Episode 73 done! Reward: 87.0\n",
      "2019-01-08 22:06:54,120 Episode 74 done! Reward: 104.0\n",
      "2019-01-08 22:06:54,269 Episode 75 done! Reward: 111.0\n",
      "2019-01-08 22:06:54,421 Episode 76 done! Reward: 112.0\n",
      "2019-01-08 22:06:54,759 Episode 77 done! Reward: 104.0\n",
      "2019-01-08 22:06:54,922 Episode 78 done! Reward: 125.0\n",
      "2019-01-08 22:06:55,078 Episode 79 done! Reward: 116.0\n",
      "2019-01-08 22:06:55,398 Episode 80 done! Reward: 84.0\n",
      "2019-01-08 22:06:55,539 Episode 81 done! Reward: 104.0\n",
      "2019-01-08 22:06:55,686 Episode 82 done! Reward: 101.0\n",
      "2019-01-08 22:06:56,022 Episode 83 done! Reward: 102.0\n",
      "2019-01-08 22:06:56,189 Episode 84 done! Reward: 124.0\n",
      "2019-01-08 22:06:56,335 Episode 85 done! Reward: 101.0\n",
      "2019-01-08 22:06:56,662 Episode 86 done! Reward: 93.0\n",
      "2019-01-08 22:06:56,811 Episode 87 done! Reward: 110.0\n",
      "2019-01-08 22:06:56,977 Episode 88 done! Reward: 124.0\n",
      "2019-01-08 22:06:57,317 Episode 89 done! Reward: 106.0\n",
      "2019-01-08 22:06:57,440 Episode 90 done! Reward: 92.0\n",
      "2019-01-08 22:06:57,553 Episode 91 done! Reward: 84.0\n",
      "2019-01-08 22:06:57,878 Episode 92 done! Reward: 90.0\n",
      "2019-01-08 22:06:58,013 Episode 93 done! Reward: 102.0\n",
      "2019-01-08 22:06:58,153 Episode 94 done! Reward: 103.0\n",
      "2019-01-08 22:06:58,479 Episode 95 done! Reward: 91.0\n",
      "2019-01-08 22:06:58,618 Episode 96 done! Reward: 100.0\n",
      "2019-01-08 22:06:58,767 Episode 97 done! Reward: 117.0\n",
      "2019-01-08 22:06:59,120 Episode 98 done! Reward: 107.0\n",
      "2019-01-08 22:06:59,347 Episode 99 done! Reward: 168.0\n",
      "2019-01-08 22:06:59,562 Training Complete!\n"
     ]
    }
   ],
   "source": [
    "import gym\n",
    "env = gym.make('CartPole-v0')\n",
    "agent = PPOAgent(env, verbose=1)\n",
    "agent.run(100)"
   ]
  },
  {
   "cell_type": "code",
   "execution_count": 47,
   "metadata": {},
   "outputs": [],
   "source": [
    "agent.clean_up()"
   ]
  },
  {
   "cell_type": "code",
   "execution_count": 48,
   "metadata": {},
   "outputs": [
    {
     "data": {
      "text/plain": [
       "'./runs/agent-28/'"
      ]
     },
     "execution_count": 48,
     "metadata": {},
     "output_type": "execute_result"
    }
   ],
   "source": [
    "agent.run_path"
   ]
  },
  {
   "cell_type": "code",
   "execution_count": 17,
   "metadata": {},
   "outputs": [
    {
     "name": "stdout",
     "output_type": "stream",
     "text": [
      "{'test': 'nate'}\n",
      "nate\n"
     ]
    }
   ],
   "source": [
    "class A:\n",
    "    def __init__(self, *args, **kargs):\n",
    "        print(kargs)\n",
    "        self.test = kargs['test']\n",
    "        print(self.test)\n",
    "        \n",
    "a = A(test='nate')"
   ]
  },
  {
   "cell_type": "code",
   "execution_count": null,
   "metadata": {},
   "outputs": [],
   "source": []
  },
  {
   "cell_type": "code",
   "execution_count": 4,
   "metadata": {},
   "outputs": [],
   "source": [
    "def train_agent(name):\n",
    "    f = open('/tmp/run_{}.txt'.format(name),'w') \n",
    "    ts = time.time()\n",
    "    print(name + ' started!')\n",
    "    sess = tf.Session(config=config)\n",
    "    with PPOAgent(env, name=name, verbose=1) as agent:\n",
    "        agent.run(25)\n",
    "    sess.close()\n",
    "    te = time.time() - ts\n",
    "    f.close()\n",
    "    print(name + ' completed: {}s'.format(te))"
   ]
  },
  {
   "cell_type": "code",
   "execution_count": 8,
   "metadata": {},
   "outputs": [],
   "source": [
    "jobs = [mp.Process(name='training_run_{}'.format(x),\n",
    "                   target=train_agent,\n",
    "                   args=('agent_{}'.format(x),)) for x in range(8)]"
   ]
  },
  {
   "cell_type": "code",
   "execution_count": 9,
   "metadata": {},
   "outputs": [
    {
     "name": "stdout",
     "output_type": "stream",
     "text": [
      "agent_2 started!\n",
      "agent_0 started!\n",
      "agent_1 started!\n",
      "agent_3 started!\n",
      "agent_4 started!\n",
      "agent_5 started!\n",
      "agent_7 started!\n",
      "agent_6 started!\n"
     ]
    },
    {
     "name": "stderr",
     "output_type": "stream",
     "text": [
      "2019-01-08 11:35:10,624 Run Logs Created: ./runs/agent_4-4/\n",
      "2019-01-08 11:35:10,645 Starting run: agent_4 v4\n",
      "2019-01-08 11:35:10,951 Run Logs Created: ./runs/agent_6-2/\n",
      "2019-01-08 11:35:10,960 Run Logs Created: ./runs/agent_5-3/\n",
      "2019-01-08 11:35:10,969 Starting run: agent_6 v2\n",
      "2019-01-08 11:35:10,983 Starting run: agent_5 v3\n",
      "2019-01-08 11:35:11,030 Run Logs Created: ./runs/agent_1-21/\n",
      "2019-01-08 11:35:11,036 Starting run: agent_1 v21\n",
      "2019-01-08 11:35:11,087 Run Logs Created: ./runs/agent_2-8/\n",
      "2019-01-08 11:35:11,103 Starting run: agent_2 v8\n",
      "2019-01-08 11:35:11,107 Run Logs Created: ./runs/agent_0-24/\n",
      "2019-01-08 11:35:11,122 Starting run: agent_0 v24\n",
      "2019-01-08 11:35:11,263 Run Logs Created: ./runs/agent_3-7/\n",
      "2019-01-08 11:35:11,286 Starting run: agent_3 v7\n",
      "2019-01-08 11:35:11,390 Run Logs Created: ./runs/agent_7-1/\n",
      "2019-01-08 11:35:11,437 Starting run: agent_7 v1\n",
      "2019-01-08 11:35:13,536 Episode 0 done! Reward: -3.3206887352840884\n",
      "2019-01-08 11:35:13,885 Episode 0 done! Reward: -8.017721797469687\n",
      "2019-01-08 11:35:13,957 Episode 0 done! Reward: -11.155677430121637\n",
      "2019-01-08 11:35:14,127 Episode 0 done! Reward: -10.31922580157977\n",
      "2019-01-08 11:35:14,185 Episode 0 done! Reward: -11.240089512093425\n",
      "2019-01-08 11:35:14,200 Episode 0 done! Reward: -23.136783318070005\n",
      "2019-01-08 11:35:14,517 Episode 0 done! Reward: -8.473437161493779\n",
      "2019-01-08 11:35:14,645 Episode 0 done! Reward: -17.235315464492942\n",
      "2019-01-08 11:35:22,323 Episode 1 done! Reward: -3.1419486389380404\n",
      "2019-01-08 11:35:22,365 Episode 1 done! Reward: -10.209144676402676\n",
      "2019-01-08 11:35:22,398 Episode 1 done! Reward: -19.231787348224543\n",
      "2019-01-08 11:35:22,514 Episode 1 done! Reward: -13.61353052876843\n",
      "2019-01-08 11:35:22,573 Episode 1 done! Reward: -16.72193761916008\n",
      "2019-01-08 11:35:23,046 Episode 1 done! Reward: 11.314177110649364\n",
      "2019-01-08 11:35:23,912 Episode 1 done! Reward: 7.741808398077656\n",
      "2019-01-08 11:35:24,130 Episode 1 done! Reward: -13.059728998275038\n",
      "2019-01-08 11:35:26,038 Episode 2 done! Reward: -13.033686810674212\n",
      "2019-01-08 11:35:26,237 Episode 2 done! Reward: -18.760258247054622\n",
      "2019-01-08 11:35:26,279 Episode 2 done! Reward: 15.878639481137181\n",
      "2019-01-08 11:35:26,478 Episode 2 done! Reward: -16.01152084737481\n",
      "2019-01-08 11:35:26,958 Episode 2 done! Reward: 6.17938332705965\n",
      "2019-01-08 11:35:27,075 Episode 2 done! Reward: -0.6730724333267464\n",
      "2019-01-08 11:35:28,116 Episode 2 done! Reward: 22.29265506534103\n",
      "2019-01-08 11:35:28,254 Episode 2 done! Reward: -4.094501617860782\n",
      "2019-01-08 11:35:30,001 Episode 3 done! Reward: -25.885347886822686\n",
      "2019-01-08 11:35:30,175 Episode 3 done! Reward: -23.66473351012252\n",
      "2019-01-08 11:35:30,181 Episode 3 done! Reward: -22.297473463434432\n",
      "2019-01-08 11:35:30,260 Episode 3 done! Reward: -37.89627101293512\n",
      "2019-01-08 11:35:30,942 Episode 3 done! Reward: 17.504517585797885\n",
      "2019-01-08 11:35:31,197 Episode 3 done! Reward: -5.304728120445279\n",
      "2019-01-08 11:35:32,025 Episode 3 done! Reward: -30.490080904422154\n",
      "2019-01-08 11:35:32,188 Episode 3 done! Reward: 10.806318141407015\n",
      "2019-01-08 11:35:33,907 Episode 4 done! Reward: 3.528941151798117\n",
      "2019-01-08 11:35:34,092 Episode 4 done! Reward: -20.616032746777286\n",
      "2019-01-08 11:35:34,087 Episode 4 done! Reward: 3.1632472054148244\n",
      "2019-01-08 11:35:34,262 Episode 4 done! Reward: -10.023295566334852\n",
      "2019-01-08 11:35:34,527 Episode 4 done! Reward: 15.963208675605372\n",
      "2019-01-08 11:35:34,541 Episode 4 done! Reward: -37.76172073263676\n",
      "2019-01-08 11:35:36,053 Episode 4 done! Reward: 10.605218701844674\n",
      "2019-01-08 11:35:36,064 Episode 4 done! Reward: 8.390333047486315\n",
      "2019-01-08 11:35:37,859 Episode 5 done! Reward: 28.071600747164965\n",
      "2019-01-08 11:35:37,919 Episode 5 done! Reward: 40.96926129218425\n",
      "2019-01-08 11:35:38,011 Episode 5 done! Reward: 21.27157318157006\n",
      "2019-01-08 11:35:38,093 Episode 5 done! Reward: -20.09968191819907\n",
      "2019-01-08 11:35:38,379 Episode 5 done! Reward: 5.285427799099666\n",
      "2019-01-08 11:35:39,106 Episode 5 done! Reward: -11.709590424717192\n",
      "2019-01-08 11:35:40,187 Episode 5 done! Reward: 9.367940789453415\n",
      "2019-01-08 11:35:40,332 Episode 5 done! Reward: -15.823182556913718\n",
      "2019-01-08 11:35:41,826 Episode 6 done! Reward: -19.527033405814468\n",
      "2019-01-08 11:35:41,844 Episode 6 done! Reward: 14.603681404766562\n",
      "2019-01-08 11:35:41,892 Episode 6 done! Reward: 18.126044159619227\n",
      "2019-01-08 11:35:42,009 Episode 6 done! Reward: 21.306487804427213\n",
      "2019-01-08 11:35:42,273 Episode 6 done! Reward: -13.851581269135094\n",
      "2019-01-08 11:35:43,411 Episode 6 done! Reward: -22.026953756038274\n",
      "2019-01-08 11:35:44,253 Episode 6 done! Reward: -50.51471763003717\n",
      "2019-01-08 11:35:44,284 Episode 6 done! Reward: 1.0945547853178939\n",
      "2019-01-08 11:35:45,647 Episode 7 done! Reward: -6.452144033156291\n",
      "2019-01-08 11:35:45,774 Episode 7 done! Reward: -109.916156944642\n",
      "2019-01-08 11:35:45,833 Episode 7 done! Reward: 1.840347893782912\n",
      "2019-01-08 11:35:45,879 Episode 7 done! Reward: -15.160739592388104\n",
      "2019-01-08 11:35:45,921 Episode 7 done! Reward: 31.69519803358954\n",
      "2019-01-08 11:35:47,620 Episode 7 done! Reward: -61.369440895496425\n",
      "2019-01-08 11:35:48,178 Episode 7 done! Reward: -25.562433983706363\n",
      "2019-01-08 11:35:48,540 Episode 7 done! Reward: -23.510858325954715\n",
      "2019-01-08 11:35:49,436 Episode 8 done! Reward: 42.1419627307405\n",
      "2019-01-08 11:35:49,559 Episode 8 done! Reward: -15.335896664318206\n",
      "2019-01-08 11:35:49,852 Episode 8 done! Reward: -7.205384418276184\n",
      "2019-01-08 11:35:49,906 Episode 8 done! Reward: -6.5290165804698175\n",
      "2019-01-08 11:35:50,008 Episode 8 done! Reward: -5.016154710329738\n",
      "2019-01-08 11:35:51,524 Episode 8 done! Reward: 26.787749322402803\n",
      "2019-01-08 11:35:52,303 Episode 8 done! Reward: 5.387064384052118\n",
      "2019-01-08 11:35:52,483 Episode 8 done! Reward: 20.510459399568095\n",
      "2019-01-08 11:35:53,288 Episode 9 done! Reward: -102.50972756356255\n",
      "2019-01-08 11:35:53,525 Episode 9 done! Reward: 17.59823992211409\n",
      "2019-01-08 11:35:53,876 Episode 9 done! Reward: -66.56246981527589\n",
      "2019-01-08 11:35:53,917 Episode 9 done! Reward: -18.01464964932101\n",
      "2019-01-08 11:35:54,323 Episode 9 done! Reward: -69.09407699264099\n",
      "2019-01-08 11:35:55,727 Episode 9 done! Reward: 4.165059274588957\n",
      "2019-01-08 11:35:56,129 Episode 9 done! Reward: -7.119251418948629\n",
      "2019-01-08 11:35:56,734 Episode 9 done! Reward: 27.269740495573227\n",
      "2019-01-08 11:35:57,035 Episode 10 done! Reward: 49.74509882160305\n",
      "2019-01-08 11:35:57,566 Episode 10 done! Reward: -40.243512321171195\n",
      "2019-01-08 11:35:57,748 Episode 10 done! Reward: -4.926817769819284\n",
      "2019-01-08 11:35:57,850 Episode 10 done! Reward: 28.675986359717683\n",
      "2019-01-08 11:35:58,332 Episode 10 done! Reward: 38.26119293299091\n",
      "2019-01-08 11:35:59,803 Episode 10 done! Reward: 0.9807117432875998\n",
      "2019-01-08 11:36:00,299 Episode 10 done! Reward: 43.15335753025179\n",
      "2019-01-08 11:36:00,514 Episode 10 done! Reward: -42.927109032625474\n",
      "2019-01-08 11:36:00,645 Episode 11 done! Reward: 37.38238191276027\n",
      "2019-01-08 11:36:01,450 Episode 11 done! Reward: -15.305842871083609\n",
      "2019-01-08 11:36:01,891 Episode 11 done! Reward: -1.1068757550112613\n",
      "2019-01-08 11:36:01,923 Episode 11 done! Reward: -83.66811441246182\n",
      "2019-01-08 11:36:01,974 Episode 11 done! Reward: -6.116894819685561\n",
      "2019-01-08 11:36:04,050 Episode 11 done! Reward: 73.60280562763091\n",
      "2019-01-08 11:36:04,222 Episode 11 done! Reward: 3.9294924925377206\n",
      "2019-01-08 11:36:04,302 Episode 12 done! Reward: 6.567318818173476\n",
      "2019-01-08 11:36:04,339 Episode 11 done! Reward: -13.874031847863188\n",
      "2019-01-08 11:36:05,479 Episode 12 done! Reward: 4.169936192007617\n",
      "2019-01-08 11:36:05,829 Episode 12 done! Reward: 2.232190052574257\n",
      "2019-01-08 11:36:05,917 Episode 12 done! Reward: 19.215602976321996\n",
      "2019-01-08 11:36:06,224 Episode 12 done! Reward: 6.241464909198833\n",
      "2019-01-08 11:36:07,938 Episode 12 done! Reward: 56.093131645333415\n",
      "2019-01-08 11:36:07,970 Episode 12 done! Reward: 57.506698956571434\n",
      "2019-01-08 11:36:07,999 Episode 12 done! Reward: 24.09934129002096\n",
      "2019-01-08 11:36:08,606 Episode 13 done! Reward: 37.26046725371245\n",
      "2019-01-08 11:36:09,480 Episode 13 done! Reward: -35.53920858949024\n",
      "2019-01-08 11:36:09,685 Episode 13 done! Reward: -48.1705174760179\n",
      "2019-01-08 11:36:09,736 Episode 13 done! Reward: 16.348643881878807\n",
      "2019-01-08 11:36:10,592 Episode 13 done! Reward: -48.53565335123862\n",
      "2019-01-08 11:36:11,928 Episode 13 done! Reward: 18.417315712963493\n",
      "2019-01-08 11:36:12,005 Episode 13 done! Reward: 39.702122430603154\n",
      "2019-01-08 11:36:12,176 Episode 13 done! Reward: -5.434605823147919\n",
      "2019-01-08 11:36:12,894 Episode 14 done! Reward: 24.139307304707522\n",
      "2019-01-08 11:36:13,506 Episode 14 done! Reward: 50.429571186174265\n",
      "2019-01-08 11:36:13,516 Episode 14 done! Reward: -34.34666106440473\n",
      "2019-01-08 11:36:13,598 Episode 14 done! Reward: -27.228092155214874\n",
      "2019-01-08 11:36:14,096 Episode 14 done! Reward: 12.009200050492916\n",
      "2019-01-08 11:36:15,759 Episode 14 done! Reward: 28.90257700702187\n",
      "2019-01-08 11:36:15,807 Episode 14 done! Reward: 26.34862022284129\n",
      "2019-01-08 11:36:16,297 Episode 14 done! Reward: 58.47699859241314\n",
      "2019-01-08 11:36:17,249 Episode 15 done! Reward: -5.835888657684449\n",
      "2019-01-08 11:36:17,324 Episode 15 done! Reward: -26.329357797927038\n",
      "2019-01-08 11:36:17,351 Episode 15 done! Reward: -20.575974641716527\n",
      "2019-01-08 11:36:17,709 Episode 15 done! Reward: -13.411767182428799\n",
      "2019-01-08 11:36:17,954 Episode 15 done! Reward: -13.706565992762174\n",
      "2019-01-08 11:36:19,608 Episode 15 done! Reward: -31.684871937499942\n",
      "2019-01-08 11:36:19,750 Episode 15 done! Reward: 30.336457502435817\n",
      "2019-01-08 11:36:20,581 Episode 15 done! Reward: 72.05080048679562\n",
      "2019-01-08 11:36:20,983 Episode 16 done! Reward: -26.61721083028888\n",
      "2019-01-08 11:36:21,169 Episode 16 done! Reward: 6.748171559241048\n",
      "2019-01-08 11:36:21,523 Episode 16 done! Reward: 57.71956770401049\n",
      "2019-01-08 11:36:21,562 Episode 16 done! Reward: -6.344373250897163\n",
      "2019-01-08 11:36:22,161 Episode 16 done! Reward: -69.51305588272167\n",
      "2019-01-08 11:36:23,386 Episode 16 done! Reward: 3.6446183739724884\n",
      "2019-01-08 11:36:23,745 Episode 16 done! Reward: 61.73095214666262\n",
      "2019-01-08 11:36:24,454 Episode 16 done! Reward: 99.42269568803957\n",
      "2019-01-08 11:36:24,755 Episode 17 done! Reward: -2.8221888586807986\n",
      "2019-01-08 11:36:25,194 Episode 17 done! Reward: 2.556664569389402\n",
      "2019-01-08 11:36:25,516 Episode 17 done! Reward: 3.477580180947593\n",
      "2019-01-08 11:36:25,747 Episode 17 done! Reward: 4.576146119363044\n",
      "2019-01-08 11:36:26,019 Episode 17 done! Reward: -19.768331186720154\n",
      "2019-01-08 11:36:27,465 Episode 17 done! Reward: 67.39193640054324\n",
      "2019-01-08 11:36:27,665 Episode 17 done! Reward: -14.141067374279322\n",
      "2019-01-08 11:36:28,559 Episode 17 done! Reward: 50.66940738247892\n",
      "2019-01-08 11:36:28,708 Episode 18 done! Reward: 67.0037548632004\n",
      "2019-01-08 11:36:28,720 Episode 18 done! Reward: 10.871594357672164\n",
      "2019-01-08 11:36:29,410 Episode 18 done! Reward: 31.655528875771992\n",
      "2019-01-08 11:36:29,569 Episode 18 done! Reward: 10.711404227832155\n",
      "2019-01-08 11:36:30,173 Episode 18 done! Reward: -53.96291789318401\n",
      "2019-01-08 11:36:31,574 Episode 18 done! Reward: -4.343620195897627\n",
      "2019-01-08 11:36:31,974 Episode 19 done! Reward: -35.44745091115713\n",
      "2019-01-08 11:36:31,995 Episode 18 done! Reward: -19.171832681871035\n",
      "2019-01-08 11:36:32,911 Episode 19 done! Reward: -8.744585084914483\n",
      "2019-01-08 11:36:33,140 Episode 18 done! Reward: -19.497619349782724\n",
      "2019-01-08 11:36:33,282 Episode 19 done! Reward: -51.20257935528431\n",
      "2019-01-08 11:36:33,693 Episode 19 done! Reward: -12.146556219424511\n",
      "2019-01-08 11:36:34,169 Episode 19 done! Reward: 64.86721196849547\n",
      "2019-01-08 11:36:35,270 Episode 19 done! Reward: -14.771776740602839\n",
      "2019-01-08 11:36:35,861 Episode 20 done! Reward: 33.938530273902515\n",
      "2019-01-08 11:36:35,971 Episode 19 done! Reward: 7.538781961038729\n",
      "2019-01-08 11:36:36,649 Episode 20 done! Reward: -26.765447153807692\n",
      "2019-01-08 11:36:36,970 Episode 20 done! Reward: 22.877182133184107\n",
      "2019-01-08 11:36:37,431 Episode 19 done! Reward: -1.4231129703449596\n",
      "2019-01-08 11:36:37,633 Episode 20 done! Reward: 8.87595563453608\n",
      "2019-01-08 11:36:38,146 Episode 20 done! Reward: 13.515740124552462\n",
      "2019-01-08 11:36:39,322 Episode 20 done! Reward: 30.023053801279946\n",
      "2019-01-08 11:36:39,953 Episode 21 done! Reward: 61.14385936476313\n",
      "2019-01-08 11:36:40,077 Episode 20 done! Reward: 10.859888914502505\n",
      "2019-01-08 11:36:40,693 Episode 21 done! Reward: -26.024644552196754\n",
      "2019-01-08 11:36:40,968 Episode 20 done! Reward: -47.77194520471724\n",
      "2019-01-08 11:36:41,357 Episode 21 done! Reward: 5.818798550816649\n",
      "2019-01-08 11:36:41,447 Episode 21 done! Reward: 30.81473587345206\n",
      "2019-01-08 11:36:42,138 Episode 21 done! Reward: 40.622335030704534\n",
      "2019-01-08 11:36:43,266 Episode 21 done! Reward: 9.458545462177648\n",
      "2019-01-08 11:36:43,836 Episode 22 done! Reward: 7.558087071931958\n",
      "2019-01-08 11:36:44,160 Episode 21 done! Reward: -78.74592441501294\n",
      "2019-01-08 11:36:44,720 Episode 22 done! Reward: -16.470282668254445\n",
      "2019-01-08 11:36:45,001 Episode 21 done! Reward: -75.79245424693653\n",
      "2019-01-08 11:36:45,394 Episode 22 done! Reward: 10.417957460352428\n",
      "2019-01-08 11:36:45,679 Episode 22 done! Reward: -0.8650868477109483\n",
      "2019-01-08 11:36:46,297 Episode 22 done! Reward: 42.383388271707084\n",
      "2019-01-08 11:36:47,001 Episode 22 done! Reward: 37.96297897849926\n",
      "2019-01-08 11:36:47,606 Episode 23 done! Reward: -25.95838949758018\n",
      "2019-01-08 11:36:48,056 Episode 22 done! Reward: -0.5882669382636792\n",
      "2019-01-08 11:36:48,584 Episode 23 done! Reward: 31.97528317871791\n",
      "2019-01-08 11:36:49,135 Episode 23 done! Reward: -3.926363196675623\n",
      "2019-01-08 11:36:49,293 Episode 22 done! Reward: 57.971917796334246\n",
      "2019-01-08 11:36:49,899 Episode 23 done! Reward: 37.062184396631\n",
      "2019-01-08 11:36:50,385 Episode 23 done! Reward: 43.58521562850258\n",
      "2019-01-08 11:36:50,793 Episode 23 done! Reward: 4.932833226176269\n",
      "2019-01-08 11:36:51,965 Episode 24 done! Reward: 45.65885746737766\n",
      "2019-01-08 11:36:52,152 Episode 23 done! Reward: 80.98392942122157\n",
      "2019-01-08 11:36:52,375 Episode 24 done! Reward: 51.44504496372854\n"
     ]
    },
    {
     "name": "stdout",
     "output_type": "stream",
     "text": [
      "agent_5 completed: 104.56284356117249s\n"
     ]
    },
    {
     "name": "stderr",
     "output_type": "stream",
     "text": [
      "2019-01-08 11:36:52,884 Episode 24 done! Reward: 6.694801901495086\n",
      "2019-01-08 11:36:52,895 Episode 23 done! Reward: 0.8517518329540914\n"
     ]
    },
    {
     "name": "stdout",
     "output_type": "stream",
     "text": [
      "agent_1 completed: 105.16769289970398s\n",
      "agent_7 completed: 105.50405955314636s\n"
     ]
    },
    {
     "name": "stderr",
     "output_type": "stream",
     "text": [
      "2019-01-08 11:36:53,896 Episode 24 done! Reward: 66.5912740518686\n",
      "2019-01-08 11:36:53,898 Episode 24 done! Reward: 40.21314067784239\n",
      "2019-01-08 11:36:54,238 Episode 24 done! Reward: 38.006979101862626\n"
     ]
    },
    {
     "name": "stdout",
     "output_type": "stream",
     "text": [
      "agent_3 completed: 106.46119022369385s\n",
      "agent_0 completed: 106.57342433929443s\n"
     ]
    },
    {
     "name": "stderr",
     "output_type": "stream",
     "text": [
      "2019-01-08 11:36:54,945 Episode 24 done! Reward: 44.56094483520423\n"
     ]
    },
    {
     "name": "stdout",
     "output_type": "stream",
     "text": [
      "agent_2 completed: 106.85627031326294s\n"
     ]
    },
    {
     "name": "stderr",
     "output_type": "stream",
     "text": [
      "2019-01-08 11:36:55,250 Episode 24 done! Reward: 13.891732251339906\n"
     ]
    },
    {
     "name": "stdout",
     "output_type": "stream",
     "text": [
      "agent_4 completed: 107.20605635643005s\n",
      "agent_6 completed: 107.4087450504303s\n"
     ]
    }
   ],
   "source": [
    "for i, j in enumerate(jobs):\n",
    "    j.start()"
   ]
  },
  {
   "cell_type": "code",
   "execution_count": 10,
   "metadata": {},
   "outputs": [],
   "source": [
    "for j in jobs:\n",
    "    j.terminate()\n",
    "    j.join()"
   ]
  },
  {
   "cell_type": "code",
   "execution_count": 33,
   "metadata": {},
   "outputs": [],
   "source": [
    "import threading\n",
    "from IPython.display import display\n",
    "import ipywidgets as widgets\n",
    "from sidecar import Sidecar"
   ]
  },
  {
   "cell_type": "code",
   "execution_count": 34,
   "metadata": {},
   "outputs": [
    {
     "ename": "FileNotFoundError",
     "evalue": "[Errno 2] No such file or directory: './runs/agent-27/data/animations/meta_plot/'",
     "output_type": "error",
     "traceback": [
      "\u001b[0;31m---------------------------------------------------------------------------\u001b[0m",
      "\u001b[0;31mFileNotFoundError\u001b[0m                         Traceback (most recent call last)",
      "\u001b[0;32m<ipython-input-34-02980fc297a6>\u001b[0m in \u001b[0;36m<module>\u001b[0;34m\u001b[0m\n\u001b[1;32m      1\u001b[0m \u001b[0mrun_dir\u001b[0m \u001b[0;34m=\u001b[0m \u001b[0;34m\"./runs/agent-27/data/\"\u001b[0m\u001b[0;34m\u001b[0m\u001b[0m\n\u001b[1;32m      2\u001b[0m \u001b[0mframe_dir\u001b[0m \u001b[0;34m=\u001b[0m \u001b[0mrun_dir\u001b[0m \u001b[0;34m+\u001b[0m \u001b[0;34m\"animations/meta_plot/\"\u001b[0m\u001b[0;34m\u001b[0m\u001b[0m\n\u001b[0;32m----> 3\u001b[0;31m \u001b[0mframe_count\u001b[0m \u001b[0;34m=\u001b[0m \u001b[0mlen\u001b[0m\u001b[0;34m(\u001b[0m\u001b[0mos\u001b[0m\u001b[0;34m.\u001b[0m\u001b[0mlistdir\u001b[0m\u001b[0;34m(\u001b[0m\u001b[0mframe_dir\u001b[0m\u001b[0;34m)\u001b[0m\u001b[0;34m)\u001b[0m \u001b[0;34m-\u001b[0m \u001b[0;36m1\u001b[0m\u001b[0;34m\u001b[0m\u001b[0m\n\u001b[0m\u001b[1;32m      4\u001b[0m \u001b[0mline_limit\u001b[0m \u001b[0;34m=\u001b[0m \u001b[0;36m10\u001b[0m\u001b[0;34m\u001b[0m\u001b[0m\n\u001b[1;32m      5\u001b[0m \u001b[0mlog_path\u001b[0m \u001b[0;34m=\u001b[0m \u001b[0mrun_dir\u001b[0m \u001b[0;34m+\u001b[0m \u001b[0;34m'agent.txt'\u001b[0m\u001b[0;34m\u001b[0m\u001b[0m\n",
      "\u001b[0;31mFileNotFoundError\u001b[0m: [Errno 2] No such file or directory: './runs/agent-27/data/animations/meta_plot/'"
     ]
    }
   ],
   "source": [
    "run_dir = \"./runs/agent-27/data/\"\n",
    "line_limit = 10\n",
    "log_path = run_dir + 'agent.txt'\n",
    "log_val = []\n",
    "kill_thread = False\n",
    "last_frame_count = 0\n",
    "empty_frame_count = 0\n",
    "\n",
    "def update_log():\n",
    "    log_val = ['<li><code style=\"font-size: 10px;\">{}</code></li>'.format(line) for \n",
    "               line in list(open(log_path))[-line_limit:]]\n",
    "    log_widget.value = '<ul style=\"list-style-type: none; padding: 0;\">' + ''.join(log_val) + '</ul>'\n",
    "    \n",
    "def on_change(x):\n",
    "    if (x['name'] == 'value'):\n",
    "        update_image(x['new'])\n",
    "        \n",
    "def kill_thread_click(x):\n",
    "    global kill_thread\n",
    "    kill_thread = True\n",
    "        \n",
    "def live_update():\n",
    "    global last_frame_count\n",
    "    global empty_frame_count\n",
    "    while True:\n",
    "        update_count_widget.value = \"Last Update: \" + time.strftime('%c')\n",
    "        update_log()\n",
    "        if last_frame_count == frame_count:\n",
    "            empty_frame_count += 1\n",
    "        else:\n",
    "            last_frame_count = frame_count\n",
    "            empty_frame_count = 0\n",
    "        if empty_frame_count > 10 or kill_thread:\n",
    "            update_count_widget.value = 'Halted: ' + time.strftime('%c')\n",
    "            break\n",
    "        time.sleep(1)\n",
    "\n",
    "play_widget = widgets.Play(\n",
    "    interval=250,\n",
    "    value=frame_count,\n",
    "    min=0,\n",
    "    max=frame_count,\n",
    "    step=1,\n",
    "    description=\"Press play\",\n",
    "    disabled=False\n",
    ")\n",
    "slider_widget = widgets.IntSlider(max=frame_count)\n",
    "image_widget = widgets.Image(format='png', height=100)\n",
    " \n",
    "slider_widget.observe(on_change)\n",
    "widgets.jslink((play_widget, 'value'), (slider_widget, 'value'))\n",
    "\n",
    "log_widget = widgets.HTML()\n",
    "\n",
    "update_count_widget = widgets.Label()\n",
    "\n",
    "kill_button_widget = widgets.Button(\n",
    "    description='Kill Thread'\n",
    ")\n",
    "kill_button_widget.on_click(kill_thread_click)\n",
    "\n",
    "thread = threading.Thread(target=live_update)\n",
    "thread.start()\n",
    "\n",
    "training_info = widgets.VBox([image_widget,\n",
    "                      widgets.HBox([kill_button_widget, play_widget, slider_widget, update_count_widget]),\n",
    "                      log_widget])\n",
    "\n",
    "sc = Sidecar(title='Training Info')\n",
    "with sc:\n",
    "    display(training_info)"
   ]
  },
  {
   "cell_type": "code",
   "execution_count": null,
   "metadata": {},
   "outputs": [],
   "source": []
  }
 ],
 "metadata": {
  "kernelspec": {
   "display_name": "Python 3",
   "language": "python",
   "name": "python3"
  },
  "language_info": {
   "codemirror_mode": {
    "name": "ipython",
    "version": 3
   },
   "file_extension": ".py",
   "mimetype": "text/x-python",
   "name": "python",
   "nbconvert_exporter": "python",
   "pygments_lexer": "ipython3",
   "version": "3.6.8"
  }
 },
 "nbformat": 4,
 "nbformat_minor": 2
}
