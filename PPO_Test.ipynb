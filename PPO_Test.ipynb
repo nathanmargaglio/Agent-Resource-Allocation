{
 "cells": [
  {
   "cell_type": "code",
   "execution_count": 1,
   "metadata": {},
   "outputs": [],
   "source": [
    "from PPOAgent import PPOAgent\n",
    "from SubEnvironment import SubEnvironment\n",
    "from ParallelEnvironment import ParallelEnvironment\n",
    "import time\n",
    "%load_ext autoreload\n",
    "%autoreload 2"
   ]
  },
  {
   "cell_type": "code",
   "execution_count": null,
   "metadata": {},
   "outputs": [],
   "source": [
    "env = SubEnvironment(max_steps=512, period=128, lookback=64,\n",
    "                     frequency=(1,10), freq_var=(0,1.),\n",
    "                     amplitude=1., amp_var=(0., 0.5),\n",
    "                     noise=0.1, phase=(0,1))"
   ]
  },
  {
   "cell_type": "code",
   "execution_count": null,
   "metadata": {},
   "outputs": [],
   "source": [
    "agent = PPOAgent(env, verbose=1)\n",
    "agent.run(2)"
   ]
  },
  {
   "cell_type": "code",
   "execution_count": 3,
   "metadata": {},
   "outputs": [],
   "source": [
    "import gym\n",
    "envs = [lambda: gym.make('CartPole-v0') for x in range(1)]"
   ]
  },
  {
   "cell_type": "code",
   "execution_count": 31,
   "metadata": {},
   "outputs": [
    {
     "name": "stdout",
     "output_type": "stream",
     "text": [
      "\u001b[33mWARN: gym.spaces.Box autodetected dtype as <class 'numpy.float32'>. Please provide explicit dtype.\u001b[0m\n"
     ]
    },
    {
     "name": "stderr",
     "output_type": "stream",
     "text": [
      "2019-01-09 14:51:19,237 Run Created: ./runs/agent-24/\n",
      "2019-01-09 14:51:19,239 Agen logs created.\n",
      "2019-01-09 14:51:19,241 Running Pretraining Step.\n",
      "2019-01-09 14:51:19,242 Building Models.\n",
      "2019-01-09 14:51:19,401 Beginning Training Loop.\n",
      "2019-01-09 14:51:19,986 Episode 0 done! Reward: 15.0\n",
      "2019-01-09 14:51:20,018 Episode 1 done! Reward: 11.0\n",
      "2019-01-09 14:51:20,113 Episode 2 done! Reward: 36.0\n",
      "2019-01-09 14:51:20,158 Episode 3 done! Reward: 15.0\n",
      "2019-01-09 14:51:20,192 Episode 4 done! Reward: 12.0\n",
      "2019-01-09 14:51:20,240 Episode 5 done! Reward: 20.0\n",
      "2019-01-09 14:51:20,288 Episode 6 done! Reward: 17.0\n",
      "2019-01-09 14:51:20,331 Episode 7 done! Reward: 15.0\n",
      "2019-01-09 14:51:20,368 Episode 8 done! Reward: 15.0\n",
      "2019-01-09 14:51:20,464 Episode 9 done! Reward: 37.0\n",
      "2019-01-09 14:51:20,613 Episode 10 done! Reward: 58.0\n",
      "2019-01-09 14:51:20,676 Episode 11 done! Reward: 24.0\n",
      "2019-01-09 14:51:22,633 Episode 12 done! Reward: 28.0\n",
      "2019-01-09 14:51:22,824 Episode 13 done! Reward: 75.0\n",
      "2019-01-09 14:51:22,875 Episode 14 done! Reward: 19.0\n",
      "2019-01-09 14:51:22,967 Episode 15 done! Reward: 37.0\n",
      "2019-01-09 14:51:23,030 Episode 16 done! Reward: 23.0\n",
      "2019-01-09 14:51:23,088 Episode 17 done! Reward: 21.0\n",
      "2019-01-09 14:51:23,138 Episode 18 done! Reward: 19.0\n",
      "2019-01-09 14:51:23,190 Episode 19 done! Reward: 19.0\n",
      "2019-01-09 14:51:23,306 Episode 20 done! Reward: 46.0\n",
      "2019-01-09 14:51:23,567 Episode 21 done! Reward: 25.0\n",
      "2019-01-09 14:51:23,611 Episode 22 done! Reward: 15.0\n",
      "2019-01-09 14:51:23,703 Episode 23 done! Reward: 36.0\n",
      "2019-01-09 14:51:23,970 Episode 24 done! Reward: 111.0\n",
      "2019-01-09 14:51:24,008 Episode 25 done! Reward: 14.0\n",
      "2019-01-09 14:51:24,245 Episode 26 done! Reward: 95.0\n",
      "2019-01-09 14:51:24,940 Episode 27 done! Reward: 200.0\n",
      "2019-01-09 14:51:25,435 Episode 28 done! Reward: 200.0\n",
      "2019-01-09 14:51:26,135 Episode 29 done! Reward: 200.0\n",
      "2019-01-09 14:51:26,575 Episode 30 done! Reward: 177.0\n",
      "2019-01-09 14:51:27,274 Episode 31 done! Reward: 200.0\n",
      "2019-01-09 14:51:27,759 Episode 32 done! Reward: 200.0\n",
      "2019-01-09 14:51:28,270 Episode 33 done! Reward: 125.0\n",
      "2019-01-09 14:51:28,757 Episode 34 done! Reward: 200.0\n",
      "2019-01-09 14:51:29,442 Episode 35 done! Reward: 200.0\n",
      "2019-01-09 14:51:29,937 Episode 36 done! Reward: 200.0\n",
      "2019-01-09 14:51:30,630 Episode 37 done! Reward: 200.0\n",
      "2019-01-09 14:51:31,123 Episode 38 done! Reward: 200.0\n",
      "2019-01-09 14:51:31,822 Episode 39 done! Reward: 200.0\n",
      "2019-01-09 14:51:32,316 Episode 40 done! Reward: 200.0\n",
      "2019-01-09 14:51:33,008 Episode 41 done! Reward: 200.0\n",
      "2019-01-09 14:51:33,494 Episode 42 done! Reward: 200.0\n",
      "2019-01-09 14:51:34,185 Episode 43 done! Reward: 200.0\n",
      "2019-01-09 14:51:34,682 Episode 44 done! Reward: 200.0\n",
      "2019-01-09 14:51:35,374 Episode 45 done! Reward: 200.0\n",
      "2019-01-09 14:51:35,867 Episode 46 done! Reward: 200.0\n",
      "2019-01-09 14:51:36,559 Episode 47 done! Reward: 200.0\n",
      "2019-01-09 14:51:37,056 Episode 48 done! Reward: 200.0\n",
      "2019-01-09 14:51:37,749 Episode 49 done! Reward: 200.0\n",
      "2019-01-09 14:51:38,235 Episode 50 done! Reward: 200.0\n",
      "2019-01-09 14:51:38,444 Training Complete!\n"
     ]
    }
   ],
   "source": [
    "try:\n",
    "    venv.close()\n",
    "except:\n",
    "    pass\n",
    "venv = ParallelEnvironment(envs)\n",
    "agent = PPOAgent(venv, verbose=1)\n",
    "agent.run(50)\n",
    "venv.close()"
   ]
  },
  {
   "cell_type": "code",
   "execution_count": 32,
   "metadata": {},
   "outputs": [
    {
     "name": "stderr",
     "output_type": "stream",
     "text": [
      "2019-01-09 14:51:43,800 Run Created: ./runs/agent-25/\n",
      "2019-01-09 14:51:43,801 Agen logs created.\n",
      "2019-01-09 14:51:43,820 Running Pretraining Step.\n",
      "2019-01-09 14:51:43,821 Building Models.\n",
      "2019-01-09 14:51:43,971 Beginning Training Loop.\n"
     ]
    },
    {
     "name": "stdout",
     "output_type": "stream",
     "text": [
      "\u001b[33mWARN: gym.spaces.Box autodetected dtype as <class 'numpy.float32'>. Please provide explicit dtype.\u001b[0m\n"
     ]
    },
    {
     "name": "stderr",
     "output_type": "stream",
     "text": [
      "2019-01-09 14:51:44,482 Episode 0 done! Reward: 45.0\n",
      "2019-01-09 14:51:44,516 Episode 1 done! Reward: 18.0\n",
      "2019-01-09 14:51:44,562 Episode 2 done! Reward: 24.0\n",
      "2019-01-09 14:51:44,588 Episode 3 done! Reward: 12.0\n",
      "2019-01-09 14:51:44,634 Episode 4 done! Reward: 24.0\n",
      "2019-01-09 14:51:44,664 Episode 5 done! Reward: 15.0\n",
      "2019-01-09 14:51:44,722 Episode 6 done! Reward: 28.0\n",
      "2019-01-09 14:51:44,788 Episode 7 done! Reward: 35.0\n",
      "2019-01-09 14:51:44,814 Episode 8 done! Reward: 13.0\n",
      "2019-01-09 14:51:44,837 Episode 9 done! Reward: 12.0\n",
      "2019-01-09 14:51:44,902 Episode 10 done! Reward: 33.0\n",
      "2019-01-09 14:51:47,152 Episode 11 done! Reward: 20.0\n",
      "2019-01-09 14:51:47,207 Episode 12 done! Reward: 28.0\n",
      "2019-01-09 14:51:47,238 Episode 13 done! Reward: 17.0\n",
      "2019-01-09 14:51:47,279 Episode 14 done! Reward: 19.0\n",
      "2019-01-09 14:51:47,315 Episode 15 done! Reward: 18.0\n",
      "2019-01-09 14:51:47,353 Episode 16 done! Reward: 19.0\n",
      "2019-01-09 14:51:47,395 Episode 17 done! Reward: 20.0\n",
      "2019-01-09 14:51:47,464 Episode 18 done! Reward: 32.0\n",
      "2019-01-09 14:51:47,515 Episode 19 done! Reward: 24.0\n",
      "2019-01-09 14:51:47,572 Episode 20 done! Reward: 30.0\n",
      "2019-01-09 14:51:47,606 Episode 21 done! Reward: 14.0\n",
      "2019-01-09 14:51:47,644 Episode 22 done! Reward: 21.0\n",
      "2019-01-09 14:51:47,941 Episode 23 done! Reward: 49.0\n",
      "2019-01-09 14:51:48,050 Episode 24 done! Reward: 54.0\n",
      "2019-01-09 14:51:48,113 Episode 25 done! Reward: 36.0\n",
      "2019-01-09 14:51:48,144 Episode 26 done! Reward: 15.0\n",
      "2019-01-09 14:51:48,217 Episode 27 done! Reward: 38.0\n",
      "2019-01-09 14:51:48,342 Episode 28 done! Reward: 67.0\n",
      "2019-01-09 14:51:48,719 Episode 29 done! Reward: 87.0\n",
      "2019-01-09 14:51:48,969 Episode 30 done! Reward: 133.0\n",
      "2019-01-09 14:51:49,041 Episode 31 done! Reward: 34.0\n",
      "2019-01-09 14:51:49,117 Episode 32 done! Reward: 43.0\n",
      "2019-01-09 14:51:49,450 Episode 33 done! Reward: 62.0\n",
      "2019-01-09 14:51:49,826 Episode 34 done! Reward: 200.0\n",
      "2019-01-09 14:51:50,402 Episode 35 done! Reward: 200.0\n",
      "2019-01-09 14:51:50,771 Episode 36 done! Reward: 200.0\n",
      "2019-01-09 14:51:51,354 Episode 37 done! Reward: 200.0\n",
      "2019-01-09 14:51:51,731 Episode 38 done! Reward: 200.0\n",
      "2019-01-09 14:51:52,300 Episode 39 done! Reward: 200.0\n",
      "2019-01-09 14:51:52,673 Episode 40 done! Reward: 200.0\n",
      "2019-01-09 14:51:53,238 Episode 41 done! Reward: 200.0\n",
      "2019-01-09 14:51:53,613 Episode 42 done! Reward: 200.0\n",
      "2019-01-09 14:51:54,197 Episode 43 done! Reward: 200.0\n",
      "2019-01-09 14:51:54,584 Episode 44 done! Reward: 200.0\n",
      "2019-01-09 14:51:55,163 Episode 45 done! Reward: 200.0\n",
      "2019-01-09 14:51:55,527 Episode 46 done! Reward: 200.0\n",
      "2019-01-09 14:51:56,104 Episode 47 done! Reward: 200.0\n",
      "2019-01-09 14:51:56,476 Episode 48 done! Reward: 200.0\n",
      "2019-01-09 14:51:57,056 Episode 49 done! Reward: 200.0\n",
      "2019-01-09 14:51:57,424 Episode 50 done! Reward: 200.0\n",
      "2019-01-09 14:51:57,636 Training Complete!\n"
     ]
    }
   ],
   "source": [
    "env = gym.make('CartPole-v0')\n",
    "agent = PPOAgent(env, verbose=1)\n",
    "agent.run(50)"
   ]
  },
  {
   "cell_type": "code",
   "execution_count": null,
   "metadata": {},
   "outputs": [],
   "source": [
    "import threading\n",
    "from IPython.display import display\n",
    "import ipywidgets as widgets\n",
    "from sidecar import Sidecar"
   ]
  },
  {
   "cell_type": "code",
   "execution_count": null,
   "metadata": {},
   "outputs": [],
   "source": [
    "run_dir = \"./runs/agent-27/data/\"\n",
    "line_limit = 10\n",
    "log_path = run_dir + 'agent.txt'\n",
    "log_val = []\n",
    "kill_thread = False\n",
    "last_frame_count = 0\n",
    "empty_frame_count = 0\n",
    "\n",
    "def update_log():\n",
    "    log_val = ['<li><code style=\"font-size: 10px;\">{}</code></li>'.format(line) for \n",
    "               line in list(open(log_path))[-line_limit:]]\n",
    "    log_widget.value = '<ul style=\"list-style-type: none; padding: 0;\">' + ''.join(log_val) + '</ul>'\n",
    "    \n",
    "def on_change(x):\n",
    "    if (x['name'] == 'value'):\n",
    "        update_image(x['new'])\n",
    "        \n",
    "def kill_thread_click(x):\n",
    "    global kill_thread\n",
    "    kill_thread = True\n",
    "        \n",
    "def live_update():\n",
    "    global last_frame_count\n",
    "    global empty_frame_count\n",
    "    while True:\n",
    "        update_count_widget.value = \"Last Update: \" + time.strftime('%c')\n",
    "        update_log()\n",
    "        if last_frame_count == frame_count:\n",
    "            empty_frame_count += 1\n",
    "        else:\n",
    "            last_frame_count = frame_count\n",
    "            empty_frame_count = 0\n",
    "        if empty_frame_count > 10 or kill_thread:\n",
    "            update_count_widget.value = 'Halted: ' + time.strftime('%c')\n",
    "            break\n",
    "        time.sleep(1)\n",
    "\n",
    "play_widget = widgets.Play(\n",
    "    interval=250,\n",
    "    value=frame_count,\n",
    "    min=0,\n",
    "    max=frame_count,\n",
    "    step=1,\n",
    "    description=\"Press play\",\n",
    "    disabled=False\n",
    ")\n",
    "slider_widget = widgets.IntSlider(max=frame_count)\n",
    "image_widget = widgets.Image(format='png', height=100)\n",
    " \n",
    "slider_widget.observe(on_change)\n",
    "widgets.jslink((play_widget, 'value'), (slider_widget, 'value'))\n",
    "\n",
    "log_widget = widgets.HTML()\n",
    "\n",
    "update_count_widget = widgets.Label()\n",
    "\n",
    "kill_button_widget = widgets.Button(\n",
    "    description='Kill Thread'\n",
    ")\n",
    "kill_button_widget.on_click(kill_thread_click)\n",
    "\n",
    "thread = threading.Thread(target=live_update)\n",
    "thread.start()\n",
    "\n",
    "training_info = widgets.VBox([image_widget,\n",
    "                      widgets.HBox([kill_button_widget, play_widget, slider_widget, update_count_widget]),\n",
    "                      log_widget])\n",
    "\n",
    "sc = Sidecar(title='Training Info')\n",
    "with sc:\n",
    "    display(training_info)"
   ]
  },
  {
   "cell_type": "markdown",
   "metadata": {},
   "source": [
    "## ZeroMQ"
   ]
  },
  {
   "cell_type": "code",
   "execution_count": null,
   "metadata": {},
   "outputs": [],
   "source": [
    "import zmq"
   ]
  },
  {
   "cell_type": "code",
   "execution_count": null,
   "metadata": {},
   "outputs": [],
   "source": [
    "context = zmq.Context()\n",
    "with context.socket(zmq.REQ) as socket:\n",
    "    socket.connect('tcp://127.0.0.1:5555')\n",
    "    socket.send_string('zeromq')\n",
    "    msg = socket.recv()\n",
    "    print(msg)"
   ]
  },
  {
   "cell_type": "code",
   "execution_count": null,
   "metadata": {},
   "outputs": [],
   "source": []
  }
 ],
 "metadata": {
  "kernelspec": {
   "display_name": "Python 3",
   "language": "python",
   "name": "python3"
  },
  "language_info": {
   "codemirror_mode": {
    "name": "ipython",
    "version": 3
   },
   "file_extension": ".py",
   "mimetype": "text/x-python",
   "name": "python",
   "nbconvert_exporter": "python",
   "pygments_lexer": "ipython3",
   "version": "3.6.8"
  }
 },
 "nbformat": 4,
 "nbformat_minor": 2
}
