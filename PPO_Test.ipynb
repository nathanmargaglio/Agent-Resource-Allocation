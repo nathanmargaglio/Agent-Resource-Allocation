{
 "cells": [
  {
   "cell_type": "code",
   "execution_count": 1,
   "metadata": {},
   "outputs": [],
   "source": [
    "from PPOAgent import PPOAgent\n",
    "from SubEnvironment import SubEnvironment\n",
    "from keras import backend as K\n",
    "%load_ext autoreload\n",
    "%autoreload 2"
   ]
  },
  {
   "cell_type": "code",
   "execution_count": 2,
   "metadata": {},
   "outputs": [],
   "source": [
    "env = SubEnvironment(max_steps=512, period=128, lookback=64,\n",
    "                     frequency=(1,10), freq_var=(0,1.),\n",
    "                     amplitude=1., amp_var=(0., 0.5),\n",
    "                     noise=0.1, phase=(0,1))"
   ]
  },
  {
   "cell_type": "code",
   "execution_count": 28,
   "metadata": {},
   "outputs": [
    {
     "name": "stderr",
     "output_type": "stream",
     "text": [
      "2019-01-07 20:41:55,513 Run Logs Created: ./runs/agent-26/\n",
      "2019-01-07 20:41:55,514 Starting run: agent v26\n",
      "2019-01-07 20:41:56,311 Episode 0 done! Reward: -17.212179577857274\n",
      "2019-01-07 20:41:58,295 Episode 1 done! Reward: -45.55260055143596\n",
      "2019-01-07 20:41:59,191 Episode 2 done! Reward: -20.97988037362107\n",
      "2019-01-07 20:42:00,077 Episode 3 done! Reward: -10.97721403061995\n",
      "2019-01-07 20:42:00,974 Episode 4 done! Reward: 2.232171726978299\n",
      "2019-01-07 20:42:01,885 Episode 5 done! Reward: -17.648861611310302\n",
      "2019-01-07 20:42:02,808 Episode 6 done! Reward: -19.552187963264075\n",
      "2019-01-07 20:42:03,711 Episode 7 done! Reward: -20.434188867993466\n",
      "2019-01-07 20:42:04,581 Episode 8 done! Reward: -18.100897642812072\n",
      "2019-01-07 20:42:05,496 Episode 9 done! Reward: -40.1694568571358\n"
     ]
    }
   ],
   "source": [
    "K.clear_session()\n",
    "with PPOAgent(env, verbose=1) as agent:\n",
    "    agent.run(10)"
   ]
  },
  {
   "cell_type": "code",
   "execution_count": 20,
   "metadata": {},
   "outputs": [
    {
     "data": {
      "text/plain": [
       "1546818553.8979425"
      ]
     },
     "execution_count": 20,
     "metadata": {},
     "output_type": "execute_result"
    }
   ],
   "source": [
    "import time\n",
    "\n",
    "time.time()"
   ]
  },
  {
   "cell_type": "code",
   "execution_count": 1,
   "metadata": {},
   "outputs": [],
   "source": [
    "import numpy as np\n",
    "import matplotlib.pyplot as plt\n",
    "import pandas as pd\n",
    "import gym\n",
    "from copy import deepcopy\n",
    "\n",
    "from keras.layers import Input, Dense, concatenate\n",
    "from keras.models import Model\n",
    "from keras.optimizers import Adam\n",
    "from keras import backend as K\n",
    "\n",
    "from SubAgent import SubAgent\n",
    "from SubEnvironment import SubEnvironment\n",
    "from MetaAgent import MetaAgent\n",
    "from MetaEnvironment import MetaEnvironment\n",
    "\n",
    "K.clear_session()\n",
    "\n",
    "%load_ext autoreload\n",
    "%autoreload 2\n",
    "\n",
    "import os\n",
    "import threading\n",
    "from IPython.display import display\n",
    "import ipywidgets as widgets\n",
    "import time\n",
    "import multiprocessing\n",
    "from sidecar import Sidecar\n",
    "jobs = []"
   ]
  },
  {
   "cell_type": "code",
   "execution_count": 2,
   "metadata": {},
   "outputs": [
    {
     "name": "stdout",
     "output_type": "stream",
     "text": [
      "WARNING:tensorflow:From /home/nathan/anaconda3/lib/python3.6/site-packages/keras/backend/tensorflow_backend.py:2504: Print (from tensorflow.python.ops.logging_ops) is deprecated and will be removed after 2018-08-20.\n",
      "Instructions for updating:\n",
      "Use tf.print instead of tf.Print. Note that tf.print returns a no-output operator that directly prints the output. Outside of defuns or eager mode, this operator will not be executed unless it is directly specified in session.run or used as a control dependency for other operators. This is only a concern in graph mode. Below is an example of how to ensure tf.print executes in graph mode:\n",
      "```python\n",
      "    sess = tf.Session()\n",
      "    with sess.as_default():\n",
      "        tensor = tf.range(10)\n",
      "        print_op = tf.print(tensor)\n",
      "        with tf.control_dependencies([print_op]):\n",
      "          out = tf.add(tensor, tensor)\n",
      "        sess.run(out)\n",
      "    ```\n",
      "Additionally, to use tf.print in python 2.7, users must make sure to import\n",
      "the following:\n",
      "\n",
      "  `from __future__ import print_function`\n",
      "\n"
     ]
    }
   ],
   "source": [
    "sub_envs = []\n",
    "for i in range(3):\n",
    "    sub_envs.append(SubEnvironment(max_steps=512, period=128, lookback=64,\n",
    "                                   frequency=(1,10), freq_var=(0,1.),\n",
    "                                   amplitude=1., amp_var=(0., 0.5),\n",
    "                                   noise=0.1, phase=(0,1)))\n",
    "    \n",
    "sub_agents = []\n",
    "for env in sub_envs:\n",
    "    sub_agents.append(SubAgent(env))\n",
    "    \n",
    "meta_env = MetaEnvironment(sub_agents)"
   ]
  },
  {
   "cell_type": "code",
   "execution_count": null,
   "metadata": {},
   "outputs": [],
   "source": [
    "meta_agent = MetaAgent(meta_env, live_plot=False)\n",
    "def run_agent():\n",
    "    return meta_agent.run(episodes=128)\n",
    "\n",
    "p = multiprocessing.Process(target=run_agent)\n",
    "jobs.append(p)\n",
    "p.start()"
   ]
  },
  {
   "cell_type": "code",
   "execution_count": 16,
   "metadata": {},
   "outputs": [],
   "source": [
    "import os"
   ]
  },
  {
   "cell_type": "code",
   "execution_count": null,
   "metadata": {},
   "outputs": [],
   "source": [
    "os.makedirs('.', exist_ok=True)"
   ]
  },
  {
   "cell_type": "code",
   "execution_count": null,
   "metadata": {},
   "outputs": [],
   "source": [
    "run_dir = \"./runs/run-25/\"\n",
    "frame_dir = run_dir + \"animations/meta_plot/\"\n",
    "frame_count = len(os.listdir(frame_dir)) - 1\n",
    "line_limit = 10\n",
    "log_path = run_dir + 'log.txt'\n",
    "log_val = []\n",
    "kill_thread = False\n",
    "last_frame_count = 0\n",
    "empty_frame_count = 0\n",
    "\n",
    "def update_log():\n",
    "    log_val = ['<li><code style=\"font-size: 10px;\">{}</code></li>'.format(line) for \n",
    "               line in list(open(log_path))[-line_limit:]]\n",
    "    log_widget.value = '<ul style=\"list-style-type: none; padding: 0;\">' + ''.join(log_val) + '</ul>'\n",
    "    \n",
    "def update_frames():\n",
    "    frame_count = len(os.listdir(frame_dir)) - 1\n",
    "    play_widget.max = frame_count\n",
    "    slider_widget.max = frame_count\n",
    "    if play_widget.value == play_widget.max - 1:\n",
    "        play_widget.value = play_widget.max\n",
    "    \n",
    "def update_image(i=0):\n",
    "    file = open(frame_dir + \"{0:03d}.png\".format(i), \"rb\")\n",
    "    image = file.read()\n",
    "    image_widget.value = image\n",
    "\n",
    "def on_change(x):\n",
    "    if (x['name'] == 'value'):\n",
    "        update_image(x['new'])\n",
    "        \n",
    "def kill_thread_click(x):\n",
    "    global kill_thread\n",
    "    kill_thread = True\n",
    "        \n",
    "def live_update():\n",
    "    global last_frame_count\n",
    "    global empty_frame_count\n",
    "    while True:\n",
    "        update_count_widget.value = \"Last Update: \" + time.strftime('%c')\n",
    "        update_log()\n",
    "        update_frames()\n",
    "        if last_frame_count == frame_count:\n",
    "            empty_frame_count += 1\n",
    "        else:\n",
    "            last_frame_count = frame_count\n",
    "            empty_frame_count = 0\n",
    "        if empty_frame_count > 10 or kill_thread:\n",
    "            update_count_widget.value = 'Halted: ' + time.strftime('%c')\n",
    "            break\n",
    "        time.sleep(1)\n",
    "\n",
    "play_widget = widgets.Play(\n",
    "    interval=250,\n",
    "    value=frame_count,\n",
    "    min=0,\n",
    "    max=frame_count,\n",
    "    step=1,\n",
    "    description=\"Press play\",\n",
    "    disabled=False\n",
    ")\n",
    "slider_widget = widgets.IntSlider(max=frame_count)\n",
    "image_widget = widgets.Image(format='png', height=100)\n",
    " \n",
    "slider_widget.observe(on_change)\n",
    "widgets.jslink((play_widget, 'value'), (slider_widget, 'value'))\n",
    "\n",
    "log_widget = widgets.HTML()\n",
    "\n",
    "update_count_widget = widgets.Label()\n",
    "\n",
    "kill_button_widget = widgets.Button(\n",
    "    description='Kill Thread'\n",
    ")\n",
    "kill_button_widget.on_click(kill_thread_click)\n",
    "\n",
    "thread = threading.Thread(target=live_update)\n",
    "thread.start()\n",
    "\n",
    "training_info = widgets.VBox([image_widget,\n",
    "                      widgets.HBox([kill_button_widget, play_widget, slider_widget, update_count_widget]),\n",
    "                      log_widget])\n",
    "\n",
    "sc = Sidecar(title='Training Info')\n",
    "with sc:\n",
    "    display(training_info)"
   ]
  },
  {
   "cell_type": "code",
   "execution_count": 114,
   "metadata": {},
   "outputs": [],
   "source": [
    "loggers = {\n",
    "    'one': 1,\n",
    "    'two': 2,\n",
    "    'three': 3\n",
    "}"
   ]
  },
  {
   "cell_type": "code",
   "execution_count": 116,
   "metadata": {},
   "outputs": [
    {
     "data": {
      "text/plain": [
       "True"
      ]
     },
     "execution_count": 116,
     "metadata": {},
     "output_type": "execute_result"
    }
   ],
   "source": [
    "'one' in loggers"
   ]
  },
  {
   "cell_type": "code",
   "execution_count": null,
   "metadata": {},
   "outputs": [],
   "source": []
  }
 ],
 "metadata": {
  "kernelspec": {
   "display_name": "Python 3",
   "language": "python",
   "name": "python3"
  },
  "language_info": {
   "codemirror_mode": {
    "name": "ipython",
    "version": 3
   },
   "file_extension": ".py",
   "mimetype": "text/x-python",
   "name": "python",
   "nbconvert_exporter": "python",
   "pygments_lexer": "ipython3",
   "version": "3.6.6"
  }
 },
 "nbformat": 4,
 "nbformat_minor": 2
}
